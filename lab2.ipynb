{
  "cells": [
    {
      "cell_type": "code",
      "execution_count": 3,
      "metadata": {
        "id": "5Ea0yQ5jkts2",
        "outputId": "17744c08-b949-44ea-9e55-e37ace55383d",
        "colab": {
          "base_uri": "https://localhost:8080/"
        }
      },
      "outputs": [
        {
          "output_type": "stream",
          "name": "stdout",
          "text": [
            "\u001b[31mERROR: Invalid requirement: '—upgrade': Expected package name at the start of dependency specifier\n",
            "    —upgrade\n",
            "    ^\u001b[0m\u001b[31m\n",
            "\u001b[0m('королевский_ADJ', 0.6187300682067871)\n",
            "('посол_NOUN', 0.586216151714325)\n",
            "('монарх_NOUN', 0.5780017375946045)\n",
            "('герцог_NOUN', 0.5603410005569458)\n",
            "('принц_NOUN', 0.5473719835281372)\n",
            "('император_NOUN', 0.5451878905296326)\n",
            "('король_PROPN', 0.5419875383377075)\n",
            "('королева_NOUN', 0.5383679866790771)\n",
            "('фердинанд_PROPN', 0.5365633368492126)\n",
            "('королевство_NOUN', 0.5342355370521545)\n"
          ]
        }
      ],
      "source": [
        "!pip install —upgrade gensim\n",
        "import gensim\n",
        "\n",
        "# Список позитивных и негативных слов\n",
        "pos = [\"представитель_NOUN\", \"король_NOUN\"]\n",
        "neg = []\n",
        "\n",
        "# Убедитесь, что файл находится в директории Colab\n",
        "file = \"https://marigostra.ru/persist/cbow.txt\"\n",
        "\n",
        "# Загрузка модели Word2Vec\n",
        "try:\n",
        "  word2vec = gensim.models.KeyedVectors.load_word2vec_format(file, binary=False)\n",
        "  # Получение похожих слов\n",
        "  dist = word2vec.most_similar(positive=pos, negative=neg)\n",
        "  for i in dist:\n",
        "    print(i)\n",
        "except Exception as e:\n",
        "  print(f\"Ошибка: {e}\")\n",
        "\n"
      ]
    }
  ],
  "metadata": {
    "kernelspec": {
      "display_name": "Python 3",
      "language": "python",
      "name": "python3"
    },
    "language_info": {
      "codemirror_mode": {
        "name": "ipython",
        "version": 3
      },
      "file_extension": ".py",
      "mimetype": "text/x-python",
      "name": "python",
      "nbconvert_exporter": "python",
      "pygments_lexer": "ipython3",
      "version": "3.12.1"
    },
    "colab": {
      "provenance": []
    }
  },
  "nbformat": 4,
  "nbformat_minor": 0
}